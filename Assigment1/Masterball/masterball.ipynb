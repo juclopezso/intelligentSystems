{
 "cells": [
  {
   "cell_type": "markdown",
   "metadata": {
    "colab_type": "text",
    "id": "rVoN-GrkEU_P"
   },
   "source": [
    "# Intelligent Systems Assignment 1\n",
    "\n",
    "## Masterball solver\n",
    "\n",
    "\n",
    "* Juan Camilo Lopez 1020798860 - 2589512\n",
    "* Cristian Alexanther Rojas 1020777961"
   ]
  },
  {
   "cell_type": "markdown",
   "metadata": {
    "colab_type": "text",
    "id": "CER1fXxjEU_R"
   },
   "source": [
    "### 1. Create a class to model the Masterball problem"
   ]
  },
  {
   "cell_type": "markdown",
   "metadata": {
    "colab_type": "text",
    "id": "C7ffD1sAEU_S"
   },
   "source": [
    "A Masterball must be represented as an array of arrays with integer values representing the color of the tile in each position:\n",
    "\n",
    "A solved masterball must look like this:\n",
    "\n",
    "```python\n",
    "[ [0, 1, 2, 3, 4, 5, 6, 7],\n",
    "  [0, 1, 2, 3, 4, 5, 6, 7],\n",
    "  [0, 1, 2, 3, 4, 5, 6, 7],\n",
    "  [0, 1, 2, 3, 4, 5, 6, 7]\n",
    "]\n",
    "```"
   ]
  },
  {
   "cell_type": "markdown",
   "metadata": {
    "colab_type": "text",
    "id": "5KtAvjk5EU_V"
   },
   "source": [
    "#### Variables modeling the actions"
   ]
  },
  {
   "cell_type": "code",
   "execution_count": 30,
   "metadata": {
    "colab": {
     "autoexec": {
      "startup": false,
      "wait_interval": 0
     }
    },
    "colab_type": "code",
    "id": "ATVD5trIEU_W"
   },
   "outputs": [],
   "source": [
    "'''\n",
    "This variables MUST not be changed.\n",
    "They represent the movements of the masterball.\n",
    "'''\n",
    "R_0 = \"Right 0\"\n",
    "R_1 = \"Right 1\"\n",
    "R_2 = \"Right 2\"\n",
    "R_3 = \"Right 3\"\n",
    "\n",
    "V_0 = \"Vertical 0\"\n",
    "V_1 = \"Vertical 1\"\n",
    "V_2 = \"Vertical 2\"\n",
    "V_3 = \"Vertical 3\"\n",
    "V_4 = \"Vertical 4\"\n",
    "V_5 = \"Vertical 5\"\n",
    "V_6 = \"Vertical 6\"\n",
    "V_7 = \"Vertical 7\"\n",
    "\n",
    "\n",
    "\n",
    "allActions=[R_0,R_1,R_2,R_3,V_0,V_1,V_2,V_3,V_4,V_5,V_6,V_7]"
   ]
  },
  {
   "cell_type": "markdown",
   "metadata": {
    "colab_type": "text",
    "id": "AnLHi7i0EU_d"
   },
   "source": [
    "`R_i` moves the `i`th row to the right. For instance, `R_2` applied to the solved state will produce:\n",
    "\n",
    "```python\n",
    "[ [0, 1, 2, 3, 4, 5, 6, 7],\n",
    "  [0, 1, 2, 3, 4, 5, 6, 7],\n",
    "  [7, 0, 1, 2, 3, 4, 5, 6],\n",
    "  [0, 1, 2, 3, 4, 5, 6, 7]\n",
    "]\n",
    "```\n",
    "\n",
    "`V_i` performs a clockwise vertical move starting with the `i`th column\n",
    "\n",
    "`V_1` applied to the above state will produce:\n",
    "\n",
    "```python\n",
    "[ [0, 4, 3, 2, 1, 5, 6, 7],\n",
    "  [0, 3, 2, 1, 0, 5, 6, 7],\n",
    "  [7, 4, 3, 2, 1, 4, 5, 6],\n",
    "  [0, 4, 3, 2, 1, 5, 6, 7]\n",
    "]\n",
    "```"
   ]
  },
  {
   "cell_type": "markdown",
   "metadata": {
    "colab_type": "text",
    "id": "snrPdfqrCgYg"
   },
   "source": [
    "## Movements"
   ]
  },
  {
   "cell_type": "code",
   "execution_count": 38,
   "metadata": {
    "colab": {
     "autoexec": {
      "startup": false,
      "wait_interval": 0
     },
     "base_uri": "https://localhost:8080/",
     "height": 260,
     "output_extras": [
      {
       "item_id": 1
      }
     ]
    },
    "colab_type": "code",
    "executionInfo": {
     "elapsed": 516,
     "status": "ok",
     "timestamp": 1521070208011,
     "user": {
      "displayName": "Osmar Alejandro Castillo Lancheros",
      "photoUrl": "//lh5.googleusercontent.com/-8oBkS60Qr-c/AAAAAAAAAAI/AAAAAAAAA3Q/6tay5riAyuc/s50-c-k-no/photo.jpg",
      "userId": "113398131510355699841"
     },
     "user_tz": 300
    },
    "id": "C1R4CiFyCkl0",
    "outputId": "4a067008-6ca5-40c0-c549-d8abd2b6b91c"
   },
   "outputs": [
    {
     "name": "stdout",
     "output_type": "stream",
     "text": [
      "[0, 1, 2, 3, 4, 5, 6, 7]\n",
      "[0, 1, 2, 3, 4, 5, 6, 7]\n",
      "[0, 1, 2, 3, 4, 5, 6, 7]\n",
      "[0, 1, 2, 3, 4, 5, 6, 7]\n",
      "MOVE\n",
      "[0, 7, 6, 3, 4, 5, 6, 1]\n",
      "[1, 0, 7, 3, 4, 5, 6, 2]\n",
      "[1, 0, 7, 3, 4, 5, 6, 2]\n",
      "[1, 0, 7, 2, 3, 4, 5, 2]\n",
      "MOVE\n",
      "[0, 7, 6, 3, 4, 5, 6, 1]\n",
      "[1, 0, 7, 3, 4, 5, 6, 2]\n",
      "[1, 0, 7, 3, 4, 5, 6, 2]\n",
      "[1, 0, 7, 2, 3, 4, 5, 2]\n"
     ]
    }
   ],
   "source": [
    "cube = [ [0, 1, 2, 3, 4, 5, 6, 7],\n",
    "         [0, 1, 2, 3, 4, 5, 6, 7],\n",
    "         [0, 1, 2, 3, 4, 5, 6, 7],\n",
    "         [0, 1, 2, 3, 4, 5, 6, 7]\n",
    "        ]\n",
    "\n",
    "def R_I(matrix, row):\n",
    "  newMatrix=[x[:] for x in matrix]\n",
    "  newMatrix[row].insert(0,newMatrix[row].pop())\n",
    "  return newMatrix\n",
    " \n",
    "def V_I(matrix, column):\n",
    "\n",
    "    newMatrix=[x[:] for x in matrix]\n",
    "    for x in range(4):\n",
    "      index=column+x\n",
    "      index2=column+3-x\n",
    "      if (index>7):\n",
    "        index=(index%7)-1\n",
    "      if(index2>7):\n",
    "        index2=(index2%7)-1\n",
    "              \n",
    "      \n",
    "      elr0=newMatrix[0].pop(index)\n",
    "      elr1=newMatrix[1].pop(index)\n",
    "      elr2=newMatrix[2].pop(index2)\n",
    "      elr3=newMatrix[3].pop(index2)\n",
    "  \n",
    "      newMatrix[0].insert(index,elr3)\n",
    "      newMatrix[1].insert(index,elr2)\n",
    "      newMatrix[2].insert(index2,elr1)\n",
    "      newMatrix[3].insert(index2,elr0)\n",
    "    \n",
    "    return newMatrix\n",
    "          \n",
    "print(*cube,sep='\\n')\n",
    "cube = R_I(cube, 3)\n",
    "\n",
    "print(\"MOVE\")\n",
    "print(*cubo, sep='\\n')\n",
    "cube = V_I(cube, 7)\n",
    "\n",
    "print(\"MOVE\")\n",
    "print(*cube, sep='\\n')"
   ]
  },
  {
   "cell_type": "markdown",
   "metadata": {
    "colab_type": "text",
    "id": "Dcs8qI1VEU_f"
   },
   "source": [
    "#### Masterball problem class"
   ]
  },
  {
   "cell_type": "code",
   "execution_count": 40,
   "metadata": {
    "colab": {
     "autoexec": {
      "startup": false,
      "wait_interval": 0
     }
    },
    "colab_type": "code",
    "id": "A5Pp2pwCEU_h"
   },
   "outputs": [],
   "source": [
    "import search\n",
    "import sys\n",
    "class masterball_problem(search.Problem):    \n",
    "    \n",
    "    def __init__(self, start):\n",
    "        self.expanded = 0\n",
    "        ### your code here ###\n",
    "        super().__init__(list(start))\n",
    "    \n",
    "\n",
    "    def goal_test(self, state):\n",
    "        '''\n",
    "        Define when a given state is a goal state (A correctly colored masterball)\n",
    "        '''\n",
    "        ### your code here ###\n",
    "        target=[[x for x in range(8)] for y in range(4)]\n",
    "        return list(state)==target\n",
    "      \n",
    "    \n",
    "    def getStartState(self):\n",
    "        '''\n",
    "        Implement a method that returns the start state.\n",
    "        '''\n",
    "        ### your code here ###\n",
    "        return self.initial\n",
    "     \n",
    "\n",
    "    def actions(self, state):\n",
    "        \n",
    "        successors=[]\n",
    "        \n",
    "        for a in allActions:\n",
    "          futureState=[x[:] for x in state]\n",
    "          mov,pos = a.strip().split(\" \")\n",
    "          cost=0\n",
    "          if mov==\"Right\":\n",
    "            R_I(futureState,int(pos))\n",
    "            cost=8\n",
    "            \n",
    "          elif mov==\"Vertical\":\n",
    "            V_I(futureState,int(pos))\n",
    "            cost=16\n",
    "          \n",
    "          successors.append((futureState,a,cost))\n",
    "        \n",
    "        return successors\n",
    "\n",
    "    def result(self, state, action):\n",
    "        self.expanded += 1\n",
    "        mov,pos = action.strip().split(\" \")\n",
    "        if mov==\"Right\":\n",
    "          return list(R_I(state,int(pos)))\n",
    "        elif mov==\"Vertical\":\n",
    "          return list(V_I(state,int(pos)))\n",
    "          \n",
    "        \n",
    "    def path_cost(self, c, state1, action, state2):\n",
    "        return c + action "
   ]
  },
  {
   "cell_type": "code",
   "execution_count": 33,
   "metadata": {
    "colab": {
     "autoexec": {
      "startup": false,
      "wait_interval": 0
     }
    },
    "colab_type": "code",
    "id": "4BNlUO4b9p4n"
   },
   "outputs": [],
   "source": [
    "def general_search(problem, frontier):\n",
    "    visited = {}\n",
    "    state = problem.getStartState()\n",
    "    frontier.append((state, [], 0))\n",
    "    while frontier: # Repita mientras hay elementos en la frontera\n",
    "        u, actions, path_cost = frontier.pop()\n",
    "        if problem.goal_test(u):\n",
    "            return  actions, 0\n",
    "        if not str(u) in visited:\n",
    "          for action in problem.actions(u):\n",
    "            fs=action[0]\n",
    "            a=action[1]\n",
    "            ca=int(action[2])             \n",
    "            v = problem.result(u, a)\n",
    "            new_path_cost = problem.path_cost(path_cost, u, ca, v)\n",
    "            cost = new_path_cost - path_cost\n",
    "            #tree.addNode(str(v) + str(actions+[a]), str(v))\n",
    "            #tree.addEdge(str(u) + str(actions), str(cost), str(v) + str(actions+[a]))\n",
    "            frontier.append((v, actions + [a], path_cost + cost))\n",
    "        visited[str(u)] = 'black'\n",
    "    return [], 0"
   ]
  },
  {
   "cell_type": "markdown",
   "metadata": {
    "colab_type": "text",
    "id": "WTuIRhotEU_p"
   },
   "source": [
    "### 2. Implement iterative deepening search\n",
    "\n",
    "Follow the example code provided in class and implement iterative deepening search (IDS)."
   ]
  },
  {
   "cell_type": "code",
   "execution_count": 35,
   "metadata": {
    "colab": {
     "autoexec": {
      "startup": false,
      "wait_interval": 0
     },
     "base_uri": "https://localhost:8080/",
     "height": 173,
     "output_extras": [
      {
       "item_id": 4
      }
     ]
    },
    "colab_type": "code",
    "executionInfo": {
     "elapsed": 20050,
     "status": "ok",
     "timestamp": 1521060278731,
     "user": {
      "displayName": "Osmar Alejandro Castillo Lancheros",
      "photoUrl": "//lh5.googleusercontent.com/-8oBkS60Qr-c/AAAAAAAAAAI/AAAAAAAAA3Q/6tay5riAyuc/s50-c-k-no/photo.jpg",
      "userId": "113398131510355699841"
     },
     "user_tz": 300
    },
    "id": "UJx8DjODEU_q",
    "outputId": "efb860c0-0e30-4c9c-8824-cdd7b4da631a"
   },
   "outputs": [
    {
     "name": "stdout",
     "output_type": "stream",
     "text": [
      "Bfs\n",
      "Steps:  ['Vertical 5', 'Right 1', 'Vertical 1', 'Vertical 5']\n",
      "Nodes expanded: 129672\n",
      "\n",
      "Iterative\n",
      "Steps:  ['Vertical 5', 'Right 1', 'Vertical 1', 'Vertical 5']\n",
      "Nodes expanded: 9904\n",
      "\n",
      "A* null heuristic\n",
      "Steps:  (['Vertical 5', 'Right 1', 'Vertical 1', 'Vertical 5'], 0)\n",
      "Nodes expanded: 115668\n"
     ]
    }
   ],
   "source": [
    "import utils\n",
    "\n",
    "def bfs(problem):\n",
    "    ### your code here ###\n",
    "    return general_search(problem, search.FIFOQueue())\n",
    "\n",
    "def depthLimitedSearch(problem, limit=50): \n",
    "    def recursiveDls(state, problem, limit,visited):\n",
    "        u, actions, path_cost = state\n",
    "        visited[str(u)] = 'black'\n",
    "        if problem.goal_test(u):\n",
    "            return state[1]\n",
    "        elif limit == 0:\n",
    "            return 'cutoff'\n",
    "        else:\n",
    "            cutoff_occurred = False\n",
    "            for child in problem.actions(u):\n",
    "                stateFinal = problem.result(u,child[1])\n",
    "                if str(stateFinal) not in visited:\n",
    "                  result = recursiveDls((stateFinal,actions+[child[1]],path_cost+int(child[2])), problem, limit - 1,visited)\n",
    "                  if result == 'cutoff':\n",
    "                      cutoff_occurred = True\n",
    "                  elif result is not None:\n",
    "                      return result\n",
    "            return 'cutoff' if cutoff_occurred else None\n",
    "    return recursiveDls((problem.getStartState(),[],0), problem, limit,{})\n",
    "  \n",
    "def iterativeDeepeningSearch(problem):\n",
    "    ### your code here ###\n",
    "    for depth in range(sys.maxsize):\n",
    "        result = depthLimitedSearch(problem, depth)\n",
    "        if result != 'cutoff':\n",
    "            return result\n",
    "  \n",
    "  \n",
    "def uniformCostSearch(problem):\n",
    "    def g_cost(item):\n",
    "        return item[2] #Costo de el camino\n",
    "    return general_search(problem, utils.PriorityQueue(f = g_cost))\n",
    "  \n",
    "\n",
    "def nullHeuristic(state):\n",
    "    return 0\n",
    "\n",
    "def aStarSearch(problem, heuristic=nullHeuristic):\n",
    "    ### your code here ###\n",
    "    def f_cost(item):\n",
    "            #Backward cost , forward cost\n",
    "        return item[2] + heuristic(item[0]) \n",
    "    return general_search(problem, utils.PriorityQueue(f = f_cost)) \n",
    "  \n",
    "\n",
    "problem = masterball_problem([ [0, 4, 3, 2, 1, 5, 6, 7],\n",
    "                              [0, 3, 2, 1, 0, 5, 6, 7],\n",
    "                              [7, 4, 3, 2, 1, 4, 5, 6],\n",
    "                              [0, 4, 3, 2, 1, 5, 6, 7]])\n",
    "\n",
    "\n",
    "print(\"Bfs\")\n",
    "actions,tree = bfs(problem)\n",
    "print(\"Steps: \", actions)\n",
    "print(\"Nodes expanded:\", problem.expanded)\n",
    "problemIterative = masterball_problem([ [0, 4, 3, 2, 1, 5, 6, 7],\n",
    "                              [0, 3, 2, 1, 0, 5, 6, 7],\n",
    "                              [7, 4, 3, 2, 1, 4, 5, 6],\n",
    "                              [0, 4, 3, 2, 1, 5, 6, 7]])\n",
    "print(\"\\nIterative\")\n",
    "actions = iterativeDeepeningSearch(problemIterative)\n",
    "print(\"Steps: \", actions)\n",
    "print(\"Nodes expanded:\", problemIterative.expanded)\n",
    "problemA = masterball_problem([ [0, 4, 3, 2, 1, 5, 6, 7],\n",
    "                              [0, 3, 2, 1, 0, 5, 6, 7],\n",
    "                              [7, 4, 3, 2, 1, 4, 5, 6],\n",
    "                              [0, 4, 3, 2, 1, 5, 6, 7]])\n",
    "print(\"\\nA* null heuristic\")\n",
    "actions = aStarSearch(problemA)\n",
    "print(\"Steps: \", actions)\n",
    "print(\"Nodes expanded:\", problemA.expanded)"
   ]
  },
  {
   "cell_type": "markdown",
   "metadata": {
    "colab_type": "text",
    "id": "Dkz_jW3eEU_u"
   },
   "source": [
    "### 3. Implement different heuristics for the problem"
   ]
  },
  {
   "cell_type": "markdown",
   "metadata": {
    "colab_type": "text",
    "id": "Seo2UTvYEU_v"
   },
   "source": [
    "Implement at least two admissible and consistent heuristics. Compare A* using the heuristics against IDS calculating the number of expanded nodes and the effective branching factor, in the same way as it is done in figure 3.29 of [Russell10]."
   ]
  },
  {
   "cell_type": "code",
   "execution_count": 34,
   "metadata": {
    "colab": {
     "autoexec": {
      "startup": false,
      "wait_interval": 0
     }
    },
    "colab_type": "code",
    "id": "nhXIJ7jGEU_w"
   },
   "outputs": [],
   "source": [
    "\"\"\" \n",
    " unorderedHeuristic calculates the amount of unordered tiles on the masterball\n",
    "\"\"\"\n",
    "def unorderedHeuristic(state):\n",
    "    ### your code here ###\n",
    "    target=[[x for x in range(8)] for y in range(4)]\n",
    "    unordered = 0\n",
    "    for i in range(4):\n",
    "        for j in range(8):\n",
    "            if(state[i][j]!=target[i][j]):\n",
    "                unordered += 1\n",
    "    return unordered\n",
    "\"\"\"\n",
    "  repeatedRows caclculates the amount of tiles of the same color in every column\n",
    "\"\"\"\n",
    "def repeatedRows(state):\n",
    "    repeated = 0\n",
    "    for i in range(4):\n",
    "        aux = [x for x in state[i] if state[i].count(x) > 1]\n",
    "        repeated += len(aux)\n",
    "    return repeated"
   ]
  },
  {
   "cell_type": "markdown",
   "metadata": {
    "colab_type": "text",
    "id": "ahZkd6V7Behj"
   },
   "source": [
    "### Uniform Cost Search"
   ]
  },
  {
   "cell_type": "code",
   "execution_count": 27,
   "metadata": {
    "colab": {
     "autoexec": {
      "startup": false,
      "wait_interval": 0
     },
     "base_uri": "https://localhost:8080/",
     "height": 52,
     "output_extras": [
      {
       "item_id": 1
      }
     ]
    },
    "colab_type": "code",
    "executionInfo": {
     "elapsed": 10782,
     "status": "ok",
     "timestamp": 1520985880493,
     "user": {
      "displayName": "Osmar Alejandro Castillo Lancheros",
      "photoUrl": "//lh5.googleusercontent.com/-8oBkS60Qr-c/AAAAAAAAAAI/AAAAAAAAA3Q/6tay5riAyuc/s50-c-k-no/photo.jpg",
      "userId": "113398131510355699841"
     },
     "user_tz": 300
    },
    "id": "H7x_LHFFEU_z",
    "outputId": "88dfa259-dc11-47de-ad3d-c32b242a0b77"
   },
   "outputs": [
    {
     "name": "stdout",
     "output_type": "stream",
     "text": [
      "Steps:  (['Vertical 5', 'Right 1', 'Vertical 1', 'Vertical 5'], 0)\n",
      "Nodes expanded: 115668\n"
     ]
    }
   ],
   "source": [
    "problem = masterball_problem([ [0, 4, 3, 2, 1, 5, 6, 7],\n",
    "                              [0, 3, 2, 1, 0, 5, 6, 7],\n",
    "                              [7, 4, 3, 2, 1, 4, 5, 6],\n",
    "                              [0, 4, 3, 2, 1, 5, 6, 7]])\n",
    "\n",
    "print(\"Steps: \", uniformCostSearch(problem))\n",
    "print(\"Nodes expanded:\", problem.expanded)"
   ]
  },
  {
   "cell_type": "markdown",
   "metadata": {
    "colab_type": "text",
    "id": "S-l-9O1TFZL1"
   },
   "source": [
    "### A* Search - Repeated Rows"
   ]
  },
  {
   "cell_type": "code",
   "execution_count": 28,
   "metadata": {
    "colab": {
     "autoexec": {
      "startup": false,
      "wait_interval": 0
     },
     "base_uri": "https://localhost:8080/",
     "height": 52,
     "output_extras": [
      {
       "item_id": 1
      }
     ]
    },
    "colab_type": "code",
    "executionInfo": {
     "elapsed": 6590,
     "status": "ok",
     "timestamp": 1520985887151,
     "user": {
      "displayName": "Osmar Alejandro Castillo Lancheros",
      "photoUrl": "//lh5.googleusercontent.com/-8oBkS60Qr-c/AAAAAAAAAAI/AAAAAAAAA3Q/6tay5riAyuc/s50-c-k-no/photo.jpg",
      "userId": "113398131510355699841"
     },
     "user_tz": 300
    },
    "id": "GpmJY8ueFcQJ",
    "outputId": "3f8e61c2-4837-4c21-d79f-e6b9b10347ed"
   },
   "outputs": [
    {
     "name": "stdout",
     "output_type": "stream",
     "text": [
      "Steps:  (['Vertical 5', 'Right 1', 'Vertical 1', 'Vertical 5'], 0)\n",
      "Nodes expanded: 67656\n"
     ]
    }
   ],
   "source": [
    "problem = masterball_problem([ [0, 4, 3, 2, 1, 5, 6, 7],\n",
    "                              [0, 3, 2, 1, 0, 5, 6, 7],\n",
    "                              [7, 4, 3, 2, 1, 4, 5, 6],\n",
    "                              [0, 4, 3, 2, 1, 5, 6, 7]])\n",
    "\n",
    "print(\"Steps: \", aStarSearch(problem, repeatedRows))\n",
    "print(\"Nodes expanded:\", problem.expanded)"
   ]
  },
  {
   "cell_type": "markdown",
   "metadata": {
    "colab_type": "text",
    "id": "VhIDQ0GLBimP"
   },
   "source": [
    "### A* Search - Unordered Heuristic"
   ]
  },
  {
   "cell_type": "code",
   "execution_count": 29,
   "metadata": {
    "colab": {
     "autoexec": {
      "startup": false,
      "wait_interval": 0
     },
     "base_uri": "https://localhost:8080/",
     "height": 52,
     "output_extras": [
      {
       "item_id": 1
      }
     ]
    },
    "colab_type": "code",
    "executionInfo": {
     "elapsed": 420,
     "status": "ok",
     "timestamp": 1520985887638,
     "user": {
      "displayName": "Osmar Alejandro Castillo Lancheros",
      "photoUrl": "//lh5.googleusercontent.com/-8oBkS60Qr-c/AAAAAAAAAAI/AAAAAAAAA3Q/6tay5riAyuc/s50-c-k-no/photo.jpg",
      "userId": "113398131510355699841"
     },
     "user_tz": 300
    },
    "id": "KoTBtHyTBbp9",
    "outputId": "4477ed1d-99eb-41d6-8828-0fc12292b462"
   },
   "outputs": [
    {
     "name": "stdout",
     "output_type": "stream",
     "text": [
      "Steps:  (['Vertical 5', 'Right 1', 'Vertical 5', 'Vertical 1'], 0)\n",
      "Nodes expanded: 2676\n"
     ]
    }
   ],
   "source": [
    "problem = masterball_problem([ [0, 4, 3, 2, 1, 5, 6, 7],\n",
    "                              [0, 3, 2, 1, 0, 5, 6, 7],\n",
    "                              [7, 4, 3, 2, 1, 4, 5, 6],\n",
    "                              [0, 4, 3, 2, 1, 5, 6, 7]])\n",
    "\n",
    "print(\"Steps: \", aStarSearch(problem, unorderedHeuristic))\n",
    "print(\"Nodes expanded:\", problem.expanded)"
   ]
  }
 ],
 "metadata": {
  "colab": {
   "default_view": {},
   "name": "taller2.ipynb",
   "provenance": [],
   "version": "0.3.2",
   "views": {}
  },
  "kernelspec": {
   "display_name": "Python 3",
   "language": "python",
   "name": "python3"
  },
  "language_info": {
   "codemirror_mode": {
    "name": "ipython",
    "version": 3
   },
   "file_extension": ".py",
   "mimetype": "text/x-python",
   "name": "python",
   "nbconvert_exporter": "python",
   "pygments_lexer": "ipython3",
   "version": "3.5.5"
  },
  "latex_envs": {
   "LaTeX_envs_menu_present": true,
   "autoclose": false,
   "autocomplete": true,
   "bibliofile": "biblio.bib",
   "cite_by": "apalike",
   "current_citInitial": 1,
   "eqLabelWithNumbers": true,
   "eqNumInitial": 1,
   "hotkeys": {
    "equation": "Ctrl-E",
    "itemize": "Ctrl-I"
   },
   "labels_anchors": false,
   "latex_user_defs": false,
   "report_style_numbering": false,
   "user_envs_cfg": false
  },
  "toc": {
   "base_numbering": 1,
   "nav_menu": {},
   "number_sections": true,
   "sideBar": true,
   "skip_h1_title": false,
   "title_cell": "Table of Contents",
   "title_sidebar": "Contents",
   "toc_cell": false,
   "toc_position": {},
   "toc_section_display": true,
   "toc_window_display": false
  }
 },
 "nbformat": 4,
 "nbformat_minor": 1
}
