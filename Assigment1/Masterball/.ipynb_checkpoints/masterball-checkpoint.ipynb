{
 "cells": [
  {
   "cell_type": "markdown",
   "metadata": {},
   "source": [
    "# Intelligent Systems Assignment 1\n",
    "\n",
    "## Masterball solver\n",
    "\n",
    "**Names and IDs:**\n",
    "\n"
   ]
  },
  {
   "cell_type": "markdown",
   "metadata": {},
   "source": [
    "### 1. Create a class to model the Masterball problem"
   ]
  },
  {
   "cell_type": "markdown",
   "metadata": {},
   "source": [
    "A Masterball must be represented as an array of arrays with integer values representing the color of the tile in each position:\n",
    "\n",
    "A solved masterball must look like this:\n",
    "\n",
    "```python\n",
    "[ [0, 1, 2, 3, 4, 5, 6, 7],\n",
    "  [0, 1, 2, 3, 4, 5, 6, 7],\n",
    "  [0, 1, 2, 3, 4, 5, 6, 7],\n",
    "  [0, 1, 2, 3, 4, 5, 6, 7]\n",
    "]\n",
    "```"
   ]
  },
  {
   "cell_type": "markdown",
   "metadata": {},
   "source": [
    "#### Variables modeling the actions"
   ]
  },
  {
   "cell_type": "code",
   "execution_count": 3,
   "metadata": {
    "collapsed": true
   },
   "outputs": [],
   "source": [
    "'''\n",
    "This variables MUST not be changed.\n",
    "They represent the movements of the masterball.\n",
    "'''\n",
    "R_0 = \"Right 0\"\n",
    "R_1 = \"Right 1\"\n",
    "R_2 = \"Right 2\"\n",
    "R_3 = \"Right 3\"\n",
    "\n",
    "V_0 = \"Vertical 0\"\n",
    "V_1 = \"Vertical 1\"\n",
    "V_2 = \"Vertical 2\"\n",
    "V_3 = \"Vertical 3\"\n",
    "V_4 = \"Vertical 4\"\n",
    "V_5 = \"Vertical 5\"\n",
    "V_6 = \"Vertical 6\"\n",
    "V_7 = \"Vertical 7\"\n"
   ]
  },
  {
   "cell_type": "markdown",
   "metadata": {},
   "source": [
    "`R_i` moves the `i`th row to the right. For instance, `R_2` applied to the solved state will produce:\n",
    "\n",
    "```python\n",
    "[ [0, 1, 2, 3, 4, 5, 6, 7],\n",
    "  [0, 1, 2, 3, 4, 5, 6, 7],\n",
    "  [7, 0, 1, 2, 3, 4, 5, 6],\n",
    "  [0, 1, 2, 3, 4, 5, 6, 7]\n",
    "]\n",
    "```\n",
    "\n",
    "`V_i` performs a clockwise vertical move starting with the `i`th column\n",
    "\n",
    "`V_1` applied to the above state will produce:\n",
    "\n",
    "```python\n",
    "[ [0, 4, 3, 2, 1, 5, 6, 7],\n",
    "  [0, 3, 2, 1, 0, 5, 6, 7],\n",
    "  [7, 4, 3, 2, 1, 4, 5, 6],\n",
    "  [0, 4, 3, 2, 1, 5, 6, 7]\n",
    "]\n",
    "```"
   ]
  },
  {
   "cell_type": "markdown",
   "metadata": {},
   "source": [
    "#### The Masterball problem class"
   ]
  },
  {
   "cell_type": "code",
   "execution_count": 3,
   "metadata": {},
   "outputs": [],
   "source": [
    "import search\n",
    "class MasterballProblem(search.SearchProblem):    \n",
    "    \n",
    "    def __init__(self, startState):\n",
    "        '''\n",
    "        Store the initial state in the problem representation and any useful\n",
    "        data.\n",
    "        Here are some examples of initial states:\n",
    "        [[0, 1, 4, 5, 6, 2, 3, 7], [0, 1, 3, 4, 5, 6, 3, 7], [1, 2, 4, 5, 6, 2, 7, 0], [0, 1, 4, 5, 6, 2, 3, 7]]\n",
    "        [[0, 7, 4, 5, 1, 6, 2, 3], [0, 7, 4, 5, 0, 5, 2, 3], [7, 6, 3, 4, 1, 6, 1, 2], [0, 7, 4, 5, 1, 6, 2, 3]]\n",
    "        [[0, 1, 6, 4, 5, 2, 3, 7], [0, 2, 6, 5, 1, 3, 4, 7], [0, 2, 6, 5, 1, 3, 4, 7], [0, 5, 6, 4, 1, 2, 3, 7]]\n",
    "        '''\n",
    "        self.expanded = 0\n",
    "        ### your code here ###\n",
    "        pass\n",
    "    \n",
    "    \n",
    "    def isGoalState(self, state):\n",
    "        '''\n",
    "        Define when a given state is a goal state (A correctly colored masterball)\n",
    "        '''\n",
    "        ### your code here ###\n",
    "        pass\n",
    "    \n",
    "    def getStartState(self):\n",
    "        '''\n",
    "        Implement a method that returns the start state according to the SearchProblem\n",
    "        contract.\n",
    "        '''\n",
    "        ### your code here ###\n",
    "        pass\n",
    "\n",
    "    def getSuccessors(self, state):\n",
    "        '''\n",
    "        Implement a successor function: Given a state from the masterball\n",
    "        return a list of the successors and their corresponding actions. \n",
    "\n",
    "        This method *must* return a list where each element is a tuple of \n",
    "        three elements with the state of the masterball in the first position,\n",
    "        the action (according to the definition above) in the second position, \n",
    "        and the cost of the action in the last position. \n",
    "\n",
    "        Note that you should not modify the state.\n",
    "        '''\n",
    "        self.expanded += 1\n",
    "        ### your code here ###\n",
    "        pass"
   ]
  },
  {
   "cell_type": "markdown",
   "metadata": {},
   "source": [
    "### 2. Implement iterative deepening search\n",
    "\n",
    "Follow the example code provided in class and implement iterative deepening search (IDS)."
   ]
  },
  {
   "cell_type": "code",
   "execution_count": 2,
   "metadata": {
    "collapsed": true
   },
   "outputs": [],
   "source": [
    "def iterativeDeepeningSearch(problem):\n",
    "    ### your code here ###\n",
    "    return []\n",
    "\n",
    "def aStarSearch(problem, heuristic):\n",
    "    ### your code here ###\n",
    "    return []"
   ]
  },
  {
   "cell_type": "markdown",
   "metadata": {},
   "source": [
    "Evaluate it to see what is the maximum depth that it could explore in a reasonable time. Report the results. "
   ]
  },
  {
   "cell_type": "markdown",
   "metadata": {},
   "source": [
    "### 3. Implement different heuristics for the problem"
   ]
  },
  {
   "cell_type": "markdown",
   "metadata": {
    "collapsed": true
   },
   "source": [
    "Implement at least two admissible and consistent heuristics. Compare A* using the heuristics against IDS calculating the number of expanded nodes and the effective branching factor, in the same way as it is done in figure 3.29 of [Russell10]."
   ]
  },
  {
   "cell_type": "code",
   "execution_count": 5,
   "metadata": {
    "collapsed": true
   },
   "outputs": [],
   "source": [
    "def myHeuristic(state):\n",
    "    ### your code here ###\n",
    "    return 0"
   ]
  },
  {
   "cell_type": "markdown",
   "metadata": {},
   "source": [
    "Now apply the develop functions to solve the Masterball problem."
   ]
  },
  {
   "cell_type": "code",
   "execution_count": 6,
   "metadata": {},
   "outputs": [
    {
     "name": "stdout",
     "output_type": "stream",
     "text": [
      "[]\n",
      "[]\n"
     ]
    }
   ],
   "source": [
    "problem = MasterballProblem([ [0, 4, 3, 2, 1, 5, 6, 7],\n",
    "                              [0, 3, 2, 1, 0, 5, 6, 7],\n",
    "                              [7, 4, 3, 2, 1, 4, 5, 6],\n",
    "                              [0, 4, 3, 2, 1, 5, 6, 7]])\n",
    "\n",
    "print(iterativeDeepeningSearch(problem))\n",
    "print(aStarSearch(problem, myHeuristic))"
   ]
  }
 ],
 "metadata": {
  "kernelspec": {
   "display_name": "Python 2",
   "language": "python",
   "name": "python2"
  },
  "language_info": {
   "codemirror_mode": {
    "name": "ipython",
    "version": 3
   },
   "file_extension": ".py",
   "mimetype": "text/x-python",
   "name": "python",
   "nbconvert_exporter": "python",
   "pygments_lexer": "ipython3",
   "version": "3.6.5"
  }
 },
 "nbformat": 4,
 "nbformat_minor": 1
}
