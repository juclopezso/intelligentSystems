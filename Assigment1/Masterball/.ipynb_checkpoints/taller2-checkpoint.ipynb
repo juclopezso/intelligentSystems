{
 "cells": [
  {
   "cell_type": "markdown",
   "metadata": {
    "colab_type": "text",
    "id": "rVoN-GrkEU_P"
   },
   "source": [
    "# Taller 2\n",
    "## Introducción a los sistemas inteligentes 2018-1\n",
    "\n",
    "__*Fecha límite de entrega*__: *Lunes 12 de marzo antes del medio día* (ver instrucciones de envío al final)\n",
    "\n",
    "Integrantes del grupo (máximo 3):\n",
    "\n",
    "* Juan Camilo Lopez 1020798860 - 2589512\n",
    "* Miguel Angel Cortes Nivia 1032480800 - 2879694\n",
    "* Osmar Alejandro Castillo Lancheros 1018480565 - 2879674\n",
    "\n",
    "___________\n",
    "\n",
    "## El Masterball\n",
    "\n",
    "El Masterball es un rompecabezas que el cual consiste de una esfera dividida en 8 segmentos (o cascos) y dividida horizontalmente en 4 capas. Cada segmento tiene un color diferente, La siguiente figura ilustra como se ve un Masterball:\n",
    "\n",
    "<img src=\"http://www.cs.brandeis.edu/~storer/JimPuzzles/RUBIK/MasterBall/MasterBallRainbow.jpg\" \n",
    "alt=\"The Masterball\" width=\"240\" height=\"180\" border=\"10\" />\n",
    "\n",
    "\n",
    "Hay dos tipos de movimientos: un medio giro a lo largo de cualquier meridianoy un $\\frac{1}{8}$ de giro de cualquiera de las 4 capas.\n",
    "\n",
    "Su objetivo es modelar el Masterball como un problema de búsqueda y resolverlo usando diferentes algoritmos de búsqueda.\n",
    "\n",
    "_________\n"
   ]
  },
  {
   "cell_type": "code",
   "execution_count": 1,
   "metadata": {
    "colab": {
     "base_uri": "https://localhost:8080/",
     "height": 2032
    },
    "colab_type": "code",
    "id": "dl0UpEGcBtnq",
    "outputId": "f1cb5e4d-8dad-4680-befc-63f066aada49"
   },
   "outputs": [
    {
     "name": "stdout",
     "output_type": "stream",
     "text": [
      "Selecting previously unselected package fontconfig.\n",
      "(Reading database ... 16712 files and directories currently installed.)\n",
      "Preparing to unpack .../00-fontconfig_2.11.94-0ubuntu2_amd64.deb ...\n",
      "Unpacking fontconfig (2.11.94-0ubuntu2) ...\n",
      "Selecting previously unselected package libjbig0:amd64.\n",
      "Preparing to unpack .../01-libjbig0_2.1-3.1_amd64.deb ...\n",
      "Unpacking libjbig0:amd64 (2.1-3.1) ...\n",
      "Selecting previously unselected package libcdt5.\n",
      "Preparing to unpack .../02-libcdt5_2.38.0-16ubuntu2_amd64.deb ...\n",
      "Unpacking libcdt5 (2.38.0-16ubuntu2) ...\n",
      "Selecting previously unselected package libcgraph6.\n",
      "Preparing to unpack .../03-libcgraph6_2.38.0-16ubuntu2_amd64.deb ...\n",
      "Unpacking libcgraph6 (2.38.0-16ubuntu2) ...\n",
      "Selecting previously unselected package libtiff5:amd64.\n",
      "Preparing to unpack .../04-libtiff5_4.0.8-5_amd64.deb ...\n",
      "Unpacking libtiff5:amd64 (4.0.8-5) ...\n",
      "Selecting previously unselected package libwebp6:amd64.\n",
      "Preparing to unpack .../05-libwebp6_0.6.0-3_amd64.deb ...\n",
      "Unpacking libwebp6:amd64 (0.6.0-3) ...\n",
      "Selecting previously unselected package libxpm4:amd64.\n",
      "Preparing to unpack .../06-libxpm4_1%3a3.5.12-1_amd64.deb ...\n",
      "Unpacking libxpm4:amd64 (1:3.5.12-1) ...\n",
      "Selecting previously unselected package libgd3:amd64.\n",
      "Preparing to unpack .../07-libgd3_2.2.5-3_amd64.deb ...\n",
      "Unpacking libgd3:amd64 (2.2.5-3) ...\n",
      "Selecting previously unselected package libpixman-1-0:amd64.\n",
      "Preparing to unpack .../08-libpixman-1-0_0.34.0-1_amd64.deb ...\n",
      "Unpacking libpixman-1-0:amd64 (0.34.0-1) ...\n",
      "Selecting previously unselected package libxcb-render0:amd64.\n",
      "Preparing to unpack .../09-libxcb-render0_1.12-1ubuntu1_amd64.deb ...\n",
      "Unpacking libxcb-render0:amd64 (1.12-1ubuntu1) ...\n",
      "Selecting previously unselected package libxcb-shm0:amd64.\n",
      "Preparing to unpack .../10-libxcb-shm0_1.12-1ubuntu1_amd64.deb ...\n",
      "Unpacking libxcb-shm0:amd64 (1.12-1ubuntu1) ...\n",
      "Selecting previously unselected package libcairo2:amd64.\n",
      "Preparing to unpack .../11-libcairo2_1.14.10-1ubuntu1_amd64.deb ...\n",
      "Unpacking libcairo2:amd64 (1.14.10-1ubuntu1) ...\n",
      "Selecting previously unselected package libltdl7:amd64.\n",
      "Preparing to unpack .../12-libltdl7_2.4.6-2_amd64.deb ...\n",
      "Unpacking libltdl7:amd64 (2.4.6-2) ...\n",
      "Selecting previously unselected package libthai-data.\n",
      "Preparing to unpack .../13-libthai-data_0.1.26-3_all.deb ...\n",
      "Unpacking libthai-data (0.1.26-3) ...\n",
      "Selecting previously unselected package libdatrie1:amd64.\n",
      "Preparing to unpack .../14-libdatrie1_0.2.10-5_amd64.deb ...\n",
      "Unpacking libdatrie1:amd64 (0.2.10-5) ...\n",
      "Selecting previously unselected package libthai0:amd64.\n",
      "Preparing to unpack .../15-libthai0_0.1.26-3_amd64.deb ...\n",
      "Unpacking libthai0:amd64 (0.1.26-3) ...\n",
      "Selecting previously unselected package libpango-1.0-0:amd64.\n",
      "Preparing to unpack .../16-libpango-1.0-0_1.40.12-1_amd64.deb ...\n",
      "Unpacking libpango-1.0-0:amd64 (1.40.12-1) ...\n",
      "Selecting previously unselected package libgraphite2-3:amd64.\n",
      "Preparing to unpack .../17-libgraphite2-3_1.3.10-2_amd64.deb ...\n",
      "Unpacking libgraphite2-3:amd64 (1.3.10-2) ...\n",
      "Selecting previously unselected package libharfbuzz0b:amd64.\n",
      "Preparing to unpack .../18-libharfbuzz0b_1.4.2-1_amd64.deb ...\n",
      "Unpacking libharfbuzz0b:amd64 (1.4.2-1) ...\n",
      "Selecting previously unselected package libpangoft2-1.0-0:amd64.\n",
      "Preparing to unpack .../19-libpangoft2-1.0-0_1.40.12-1_amd64.deb ...\n",
      "Unpacking libpangoft2-1.0-0:amd64 (1.40.12-1) ...\n",
      "Selecting previously unselected package libpangocairo-1.0-0:amd64.\n",
      "Preparing to unpack .../20-libpangocairo-1.0-0_1.40.12-1_amd64.deb ...\n",
      "Unpacking libpangocairo-1.0-0:amd64 (1.40.12-1) ...\n",
      "Selecting previously unselected package libpathplan4.\n",
      "Preparing to unpack .../21-libpathplan4_2.38.0-16ubuntu2_amd64.deb ...\n",
      "Unpacking libpathplan4 (2.38.0-16ubuntu2) ...\n",
      "Selecting previously unselected package libgvc6.\n",
      "Preparing to unpack .../22-libgvc6_2.38.0-16ubuntu2_amd64.deb ...\n",
      "Unpacking libgvc6 (2.38.0-16ubuntu2) ...\n",
      "Selecting previously unselected package libgvpr2.\n",
      "Preparing to unpack .../23-libgvpr2_2.38.0-16ubuntu2_amd64.deb ...\n",
      "Unpacking libgvpr2 (2.38.0-16ubuntu2) ...\n",
      "Selecting previously unselected package libxt6:amd64.\n",
      "Preparing to unpack .../24-libxt6_1%3a1.1.5-1_amd64.deb ...\n",
      "Unpacking libxt6:amd64 (1:1.1.5-1) ...\n",
      "Selecting previously unselected package libxmu6:amd64.\n",
      "Preparing to unpack .../25-libxmu6_2%3a1.1.2-2_amd64.deb ...\n",
      "Unpacking libxmu6:amd64 (2:1.1.2-2) ...\n",
      "Selecting previously unselected package libxaw7:amd64.\n",
      "Preparing to unpack .../26-libxaw7_2%3a1.0.13-1_amd64.deb ...\n",
      "Unpacking libxaw7:amd64 (2:1.0.13-1) ...\n",
      "Selecting previously unselected package graphviz.\n",
      "Preparing to unpack .../27-graphviz_2.38.0-16ubuntu2_amd64.deb ...\n",
      "Unpacking graphviz (2.38.0-16ubuntu2) ...\n",
      "Setting up libpathplan4 (2.38.0-16ubuntu2) ...\n",
      "Setting up libxcb-render0:amd64 (1.12-1ubuntu1) ...\n",
      "Setting up libjbig0:amd64 (2.1-3.1) ...\n",
      "Setting up libdatrie1:amd64 (0.2.10-5) ...\n",
      "Setting up libtiff5:amd64 (4.0.8-5) ...\n",
      "Setting up libgraphite2-3:amd64 (1.3.10-2) ...\n",
      "Setting up libpixman-1-0:amd64 (0.34.0-1) ...\n",
      "Processing triggers for libc-bin (2.26-0ubuntu2.1) ...\n",
      "Setting up libltdl7:amd64 (2.4.6-2) ...\n",
      "Setting up libxcb-shm0:amd64 (1.12-1ubuntu1) ...\n",
      "Setting up libxpm4:amd64 (1:3.5.12-1) ...\n",
      "Setting up libxt6:amd64 (1:1.1.5-1) ...\n",
      "Setting up libthai-data (0.1.26-3) ...\n",
      "Setting up libcdt5 (2.38.0-16ubuntu2) ...\n",
      "Setting up fontconfig (2.11.94-0ubuntu2) ...\n",
      "Regenerating fonts cache... done.\n",
      "Setting up libcgraph6 (2.38.0-16ubuntu2) ...\n",
      "Setting up libwebp6:amd64 (0.6.0-3) ...\n",
      "Setting up libcairo2:amd64 (1.14.10-1ubuntu1) ...\n",
      "Setting up libgvpr2 (2.38.0-16ubuntu2) ...\n",
      "Setting up libgd3:amd64 (2.2.5-3) ...\n",
      "Setting up libharfbuzz0b:amd64 (1.4.2-1) ...\n",
      "Setting up libthai0:amd64 (0.1.26-3) ...\n",
      "Setting up libxmu6:amd64 (2:1.1.2-2) ...\n",
      "Setting up libpango-1.0-0:amd64 (1.40.12-1) ...\n",
      "Setting up libxaw7:amd64 (2:1.0.13-1) ...\n",
      "Setting up libpangoft2-1.0-0:amd64 (1.40.12-1) ...\n",
      "Setting up libpangocairo-1.0-0:amd64 (1.40.12-1) ...\n",
      "Setting up libgvc6 (2.38.0-16ubuntu2) ...\n",
      "Setting up graphviz (2.38.0-16ubuntu2) ...\n",
      "Processing triggers for libc-bin (2.26-0ubuntu2.1) ...\n"
     ]
    }
   ],
   "source": [
    "!apt-get -qq install -y graphviz && pip install -q pydot\n",
    "!pip install -q graphviz"
   ]
  },
  {
   "cell_type": "code",
   "execution_count": 2,
   "metadata": {
    "colab": {
     "base_uri": "https://localhost:8080/",
     "height": 399
    },
    "colab_type": "code",
    "id": "v6YDCuGODRU4",
    "outputId": "c9af9c1f-5c24-41b3-84e7-d6178badc939"
   },
   "outputs": [
    {
     "name": "stdout",
     "output_type": "stream",
     "text": [
      "--2018-03-14 23:27:56--  https://raw.githubusercontent.com/aimacode/aima-python/master/search.py\r\n",
      "Resolving raw.githubusercontent.com (raw.githubusercontent.com)... 151.101.0.133, 151.101.64.133, 151.101.128.133, ...\r\n",
      "Connecting to raw.githubusercontent.com (raw.githubusercontent.com)|151.101.0.133|:443... connected.\n",
      "HTTP request sent, awaiting response... 200 OK\n",
      "Length: 52276 (51K) [text/plain]\n",
      "Saving to: ‘search.py’\n",
      "\n",
      "search.py           100%[===================>]  51.05K  --.-KB/s    in 0.01s   \n",
      "\n",
      "2018-03-14 23:27:56 (3.59 MB/s) - ‘search.py’ saved [52276/52276]\n",
      "\n",
      "--2018-03-14 23:27:57--  https://raw.githubusercontent.com/aimacode/aima-python/master/utils.py\n",
      "Resolving raw.githubusercontent.com (raw.githubusercontent.com)... 151.101.0.133, 151.101.64.133, 151.101.128.133, ...\n",
      "Connecting to raw.githubusercontent.com (raw.githubusercontent.com)|151.101.0.133|:443... connected.\n",
      "HTTP request sent, awaiting response... 200 OK\n",
      "Length: 23193 (23K) [text/plain]\n",
      "Saving to: ‘utils.py’\n",
      "\n",
      "utils.py            100%[===================>]  22.65K  --.-KB/s    in 0.008s  \n",
      "\n",
      "2018-03-14 23:27:57 (2.85 MB/s) - ‘utils.py’ saved [23193/23193]\n",
      "\n"
     ]
    }
   ],
   "source": [
    "!wget https://raw.githubusercontent.com/aimacode/aima-python/master/search.py\n",
    "!wget https://raw.githubusercontent.com/aimacode/aima-python/master/utils.py"
   ]
  },
  {
   "cell_type": "code",
   "execution_count": 0,
   "metadata": {
    "colab": {},
    "colab_type": "code",
    "id": "RdXetg7MDZce"
   },
   "outputs": [],
   "source": [
    "# Libraries and code for graph and tree visualization\n",
    "from graphviz import Graph, Digraph\n",
    "from IPython.display import display\n",
    "\n",
    "from graphviz import Graph, Digraph\n",
    "from IPython.display import display\n",
    "\n",
    "class search_tree():\n",
    "    def __init__(self):\n",
    "        self.graph = Digraph(graph_attr = {'size':'9'})\n",
    "        \n",
    "    def addNode(self, name, label):\n",
    "        self.graph.node(name, label)\n",
    "\n",
    "    def addEdge(self, source, action, target):\n",
    "        self.graph.edge(source, target, action)\n",
    "    \n",
    "    def getDot(self):\n",
    "        return self.graph\n",
    "    \n",
    "def graphDot(g_prob, color):\n",
    "    dot = Graph(graph_attr = {'size':'3.5'})\n",
    "    for node in g_prob.G:\n",
    "        if not node in color:\n",
    "            dot.node(node)\n",
    "        else:\n",
    "            dot.node(node, style = 'filled', color = color[node])\n",
    "    for n1 in g_prob.G:\n",
    "        for n2 in g_prob.G[n1]:\n",
    "            if n1 < n2:\n",
    "                dot.edge(n1, n2)\n",
    "    return dot"
   ]
  },
  {
   "cell_type": "markdown",
   "metadata": {
    "colab_type": "text",
    "id": "CER1fXxjEU_R"
   },
   "source": [
    "### 1. Cree una clase para modelar el problema del Masterball"
   ]
  },
  {
   "cell_type": "markdown",
   "metadata": {
    "colab_type": "text",
    "id": "C7ffD1sAEU_S"
   },
   "source": [
    "Un Masterball debe representarse como una lista de listas con valores enteros que representan el color de la ficha en cada posición.\n",
    "\n",
    "Por ejemplo un masterball resuelto debe verse así:\n",
    "\n",
    "```python\n",
    "[ [0, 1, 2, 3, 4, 5, 6, 7],\n",
    "  [0, 1, 2, 3, 4, 5, 6, 7],\n",
    "  [0, 1, 2, 3, 4, 5, 6, 7],\n",
    "  [0, 1, 2, 3, 4, 5, 6, 7]\n",
    "]\n",
    "```"
   ]
  },
  {
   "cell_type": "markdown",
   "metadata": {
    "colab_type": "text",
    "id": "5KtAvjk5EU_V"
   },
   "source": [
    "#### Definición de acciones\n",
    "\n",
    "Las siguientes variables definen las posibles acciones que se pueden ejecutar:"
   ]
  },
  {
   "cell_type": "code",
   "execution_count": 0,
   "metadata": {
    "colab": {},
    "colab_type": "code",
    "id": "ATVD5trIEU_W"
   },
   "outputs": [],
   "source": [
    "'''\n",
    "This variables MUST not be changed.\n",
    "They represent the movements of the masterball.\n",
    "'''\n",
    "R_0 = \"Right 0\"\n",
    "R_1 = \"Right 1\"\n",
    "R_2 = \"Right 2\"\n",
    "R_3 = \"Right 3\"\n",
    "\n",
    "V_0 = \"Vertical 0\"\n",
    "V_1 = \"Vertical 1\"\n",
    "V_2 = \"Vertical 2\"\n",
    "V_3 = \"Vertical 3\"\n",
    "V_4 = \"Vertical 4\"\n",
    "V_5 = \"Vertical 5\"\n",
    "V_6 = \"Vertical 6\"\n",
    "V_7 = \"Vertical 7\"\n",
    "\n",
    "\n",
    "\n",
    "allActions=[R_0,R_1,R_2,R_3,V_0,V_1,V_2,V_3,V_4,V_5,V_6,V_7]\n",
    "\n",
    "\n",
    "\n"
   ]
  },
  {
   "cell_type": "markdown",
   "metadata": {
    "colab_type": "text",
    "id": "AnLHi7i0EU_d"
   },
   "source": [
    "`R_i` mueve la `i`-ésima fila a la derecha. Por ejemplo, `R_2` aplicado al estado solución produce:\n",
    "\n",
    "```python\n",
    "[ [0, 1, 2, 3, 4, 5, 6, 7],\n",
    "  [0, 1, 2, 3, 4, 5, 6, 7],\n",
    "  [7, 0, 1, 2, 3, 4, 5, 6],\n",
    "  [0, 1, 2, 3, 4, 5, 6, 7]\n",
    "]\n",
    "```\n",
    "\n",
    "`V_i` realiza un movimiento vertical en el sentido de las manecillas del reloj empezando en la `i`-ésima columna.\n",
    "\n",
    "`V_1` aplicado al estado anterior produce:\n",
    "\n",
    "```python\n",
    "[ [0, 4, 3, 2, 1, 5, 6, 7],\n",
    "  [0, 3, 2, 1, 0, 5, 6, 7],\n",
    "  [7, 4, 3, 2, 1, 4, 5, 6],\n",
    "  [0, 4, 3, 2, 1, 5, 6, 7]\n",
    "]\n",
    "```"
   ]
  },
  {
   "cell_type": "markdown",
   "metadata": {
    "colab_type": "text",
    "id": "snrPdfqrCgYg"
   },
   "source": [
    "##Movimientos"
   ]
  },
  {
   "cell_type": "code",
   "execution_count": 8,
   "metadata": {
    "colab": {
     "base_uri": "https://localhost:8080/",
     "height": 260
    },
    "colab_type": "code",
    "id": "C1R4CiFyCkl0",
    "outputId": "4a067008-6ca5-40c0-c549-d8abd2b6b91c"
   },
   "outputs": [
    {
     "name": "stdout",
     "output_type": "stream",
     "text": [
      "[0, 1, 2, 3, 4, 5, 6, 7]\n",
      "[0, 1, 2, 3, 4, 5, 6, 7]\n",
      "[0, 1, 2, 3, 4, 5, 6, 7]\n",
      "[0, 1, 2, 3, 4, 5, 6, 7]\n",
      "MOVE\n",
      "[0, 1, 2, 3, 4, 5, 6, 7]\n",
      "[0, 1, 2, 3, 4, 5, 6, 7]\n",
      "[0, 1, 2, 3, 4, 5, 6, 7]\n",
      "[7, 0, 1, 2, 3, 4, 5, 6]\n",
      "MOVE\n",
      "[0, 7, 6, 3, 4, 5, 6, 1]\n",
      "[1, 0, 7, 3, 4, 5, 6, 2]\n",
      "[1, 0, 7, 3, 4, 5, 6, 2]\n",
      "[1, 0, 7, 2, 3, 4, 5, 2]\n"
     ]
    }
   ],
   "source": [
    "cubo = [ [0, 1, 2, 3, 4, 5, 6, 7],\n",
    "         [0, 1, 2, 3, 4, 5, 6, 7],\n",
    "         [0, 1, 2, 3, 4, 5, 6, 7],\n",
    "         [0, 1, 2, 3, 4, 5, 6, 7]\n",
    "        ]\n",
    "\n",
    "\n",
    "    \n",
    "#R_i simplificado :v   \n",
    "def R_I(matriz,fila):\n",
    "  newMatriz=[x[:] for x in matriz]\n",
    "  newMatriz[fila].insert(0,newMatriz[fila].pop())\n",
    "  return newMatriz\n",
    "\n",
    "R_I(cubo,2)\n",
    "\n",
    "\n",
    "\n",
    "        \n",
    "#V_i simplificado :v   \n",
    "def V_I(matriz, columna):\n",
    "\n",
    "    newMatriz=[x[:] for x in matriz]\n",
    "    for x in range(4):\n",
    "      index=columna+x\n",
    "      index2=columna+3-x\n",
    "      if (index>7):\n",
    "        index=(index%7)-1\n",
    "      if(index2>7):\n",
    "        index2=(index2%7)-1\n",
    "              \n",
    "      \n",
    "      elr0=newMatriz[0].pop(index)\n",
    "      elr1=newMatriz[1].pop(index)\n",
    "      elr2=newMatriz[2].pop(index2)\n",
    "      elr3=newMatriz[3].pop(index2)\n",
    "  \n",
    "      newMatriz[0].insert(index,elr3)\n",
    "      newMatriz[1].insert(index,elr2)\n",
    "      newMatriz[2].insert(index2,elr1)\n",
    "      newMatriz[3].insert(index2,elr0)\n",
    "    \n",
    "    return newMatriz\n",
    "    \n",
    "\n",
    "          \n",
    "print(*cubo,sep='\\n')\n",
    "#V_I(cubo,6)        \n",
    "cubo = R_I(cubo, 3)\n",
    "print(\"MOVE\")\n",
    "print(*cubo, sep='\\n')\n",
    "cubo = V_I(cubo, 7)\n",
    "print(\"MOVE\")\n",
    "print(*cubo, sep='\\n')\n",
    "\n",
    "    "
   ]
  },
  {
   "cell_type": "code",
   "execution_count": 0,
   "metadata": {
    "colab": {},
    "colab_type": "code",
    "id": "v4KtJCUZC8Kk"
   },
   "outputs": [],
   "source": []
  },
  {
   "cell_type": "markdown",
   "metadata": {
    "colab_type": "text",
    "id": "Dcs8qI1VEU_f"
   },
   "source": [
    "#### Masterball problem class"
   ]
  },
  {
   "cell_type": "code",
   "execution_count": 0,
   "metadata": {
    "colab": {},
    "colab_type": "code",
    "id": "A5Pp2pwCEU_h"
   },
   "outputs": [],
   "source": [
    "import search\n",
    "import sys\n",
    "class masterball_problem(search.Problem):    \n",
    "    \n",
    "    def __init__(self, start):\n",
    "        '''\n",
    "        Store the initial state in the problem representation and any useful\n",
    "        data.\n",
    "        Here are some examples of initial states:\n",
    "        [[0, 1, 4, 5, 6, 2, 3, 7], [0, 1, 3, 4, 5, 6, 3, 7], [1, 2, 4, 5, 6, 2, 7, 0], [0, 1, 4, 5, 6, 2, 3, 7]]\n",
    "        [[0, 7, 4, 5, 1, 6, 2, 3], [0, 7, 4, 5, 0, 5, 2, 3], [7, 6, 3, 4, 1, 6, 1, 2], [0, 7, 4, 5, 1, 6, 2, 3]]\n",
    "        [[0, 1, 6, 4, 5, 2, 3, 7], [0, 2, 6, 5, 1, 3, 4, 7], [0, 2, 6, 5, 1, 3, 4, 7], [0, 5, 6, 4, 1, 2, 3, 7]]\n",
    "        '''\n",
    "        self.expanded = 0\n",
    "        ### your code here ###\n",
    "        super().__init__(list(start))\n",
    "    \n",
    "    \n",
    "    def goal_test(self, state):\n",
    "        '''\n",
    "        Define when a given state is a goal state (A correctly colored masterball)\n",
    "        '''\n",
    "        ### your code here ###\n",
    "        target=[[x for x in range(8)] for y in range(4)]\n",
    "        return list(state)==target\n",
    "      \n",
    "    \n",
    "    def getStartState(self):\n",
    "        '''\n",
    "        Implement a method that returns the start state.\n",
    "        '''\n",
    "        ### your code here ###\n",
    "        return self.initial\n",
    "     \n",
    "\n",
    "    def actions(self, state):\n",
    "        \"\"\"Return the actions that can be executed in the given\n",
    "        state.\"\"\"\n",
    "        '''\n",
    "        Implement a successor function: Given a state from the masterball\n",
    "        return a list of the successors and their corresponding actions. \n",
    "\n",
    "        This method *must* return a list where each element is a tuple of \n",
    "        three elements with the state of the masterball in the first position,\n",
    "        the action (according to the definition above) in the second position, \n",
    "        and the cost of the action in the last position. \n",
    "\n",
    "        Note that you should not modify the state.\n",
    "        '''\n",
    "        \n",
    "        ### your code here ###\n",
    "        \n",
    "        successors=[]\n",
    "        \n",
    "        for a in allActions:\n",
    "          futureState=[x[:] for x in state]\n",
    "          mov,pos = a.strip().split(\" \")\n",
    "          cost=0\n",
    "          if mov==\"Right\":\n",
    "            R_I(futureState,int(pos))\n",
    "            cost=8\n",
    "            \n",
    "          elif mov==\"Vertical\":\n",
    "            V_I(futureState,int(pos))\n",
    "            cost=16\n",
    "          \n",
    "          successors.append((futureState,a,cost))\n",
    "        \n",
    "        \n",
    "        \n",
    "        \n",
    "        return successors\n",
    "\n",
    "    def result(self, state, action):\n",
    "        \"\"\"Return the state that results from executing the given\n",
    "        action in the given state. The action must be one of\n",
    "        self.actions(state).\"\"\"\n",
    "         ### your code here ###\n",
    "        self.expanded += 1\n",
    "        mov,pos = action.strip().split(\" \")\n",
    "        if mov==\"Right\":\n",
    "          return list(R_I(state,int(pos)))\n",
    "        elif mov==\"Vertical\":\n",
    "          return list(V_I(state,int(pos)))\n",
    "          \n",
    "        \n",
    "                          \n",
    "    def path_cost(self, c, state1, action, state2):\n",
    "        \"\"\"Return the cost of a solution path that arrives at state2 from\n",
    "        state1 via action, assuming cost c to get up to state1. If the problem\n",
    "        is such that the path doesn't matter, this function will only look at\n",
    "        state2. If the path does matter, it will consider c and maybe state1\n",
    "        and action. The default method costs 1 for every step in the path.\"\"\"\n",
    "        ### your code here ###\n",
    "        return c + action \n",
    "        \n"
   ]
  },
  {
   "cell_type": "code",
   "execution_count": 0,
   "metadata": {
    "colab": {},
    "colab_type": "code",
    "id": "4BNlUO4b9p4n"
   },
   "outputs": [],
   "source": [
    "def general_search(problem, frontier):\n",
    "    visited = {}\n",
    "    state = problem.getStartState()\n",
    "    frontier.append((state, [], 0))\n",
    "    tree = search_tree()\n",
    "    tree.addNode(str(state)+\"[]\",str(state))\n",
    "    while frontier: # Repita mientras hay elementos en la frontera\n",
    "        u, actions, path_cost = frontier.pop()\n",
    "        if problem.goal_test(u):\n",
    "            return  actions, tree\n",
    "        if not str(u) in visited:\n",
    "          for action in problem.actions(u):\n",
    "            fs=action[0]\n",
    "            a=action[1]\n",
    "            ca=int(action[2])             \n",
    "            v = problem.result(u, a)\n",
    "            new_path_cost = problem.path_cost(path_cost, u, ca, v)\n",
    "            cost = new_path_cost - path_cost\n",
    "            tree.addNode(str(v) + str(actions+[a]), str(v))\n",
    "            tree.addEdge(str(u) + str(actions), str(cost), str(v) + str(actions+[a]))\n",
    "            frontier.append((v, actions + [a], path_cost + cost))\n",
    "        visited[str(u)] = 'black'\n",
    "    return [], tree"
   ]
  },
  {
   "cell_type": "markdown",
   "metadata": {
    "colab_type": "text",
    "id": "WTuIRhotEU_p"
   },
   "source": [
    "\n",
    "\n",
    "```\n",
    "\n",
    "### 2. Evalue su código con diferentes estrategias de búsqueda\n",
    "\n"
   ]
  },
  {
   "cell_type": "code",
   "execution_count": 15,
   "metadata": {
    "colab": {
     "base_uri": "https://localhost:8080/",
     "height": 173
    },
    "colab_type": "code",
    "id": "UJx8DjODEU_q",
    "outputId": "efb860c0-0e30-4c9c-8824-cdd7b4da631a"
   },
   "outputs": [
    {
     "name": "stdout",
     "output_type": "stream",
     "text": [
      "Bfs\n",
      "['Vertical 5', 'Right 1', 'Vertical 1', 'Vertical 5']\n",
      "129672\n",
      "Iterative\n",
      "['Vertical 5', 'Right 1', 'Vertical 1', 'Vertical 5']\n",
      "9904\n",
      "A*\n",
      "(['Vertical 5', 'Right 1', 'Vertical 1', 'Vertical 5'], <__main__.search_tree object at 0x7f8d856239e8>)\n",
      "115668\n"
     ]
    }
   ],
   "source": [
    "import utils\n",
    "\n",
    "def bfs(problem):\n",
    "    ### your code here ###\n",
    "    return general_search(problem, search.FIFOQueue())\n",
    "\n",
    "def depthLimitedSearch(problem, limit=50): \n",
    "    def recursiveDls(state, problem, limit,visited):\n",
    "        u, actions, path_cost = state\n",
    "        visited[str(u)] = 'black'\n",
    "        if problem.goal_test(u):\n",
    "            return state[1]\n",
    "        elif limit == 0:\n",
    "            return 'cutoff'\n",
    "        else:\n",
    "            cutoff_occurred = False\n",
    "            for child in problem.actions(u):\n",
    "                stateFinal = problem.result(u,child[1])\n",
    "                if str(stateFinal) not in visited:\n",
    "                  result = recursiveDls((stateFinal,actions+[child[1]],path_cost+int(child[2])), problem, limit - 1,visited)\n",
    "                  if result == 'cutoff':\n",
    "                      cutoff_occurred = True\n",
    "                  elif result is not None:\n",
    "                      return result\n",
    "            return 'cutoff' if cutoff_occurred else None\n",
    "    return recursiveDls((problem.getStartState(),[],0), problem, limit,{})\n",
    "  \n",
    "def iterativeDeepeningSearch(problem):\n",
    "    ### your code here ###\n",
    "    for depth in range(sys.maxsize):\n",
    "        result = depthLimitedSearch(problem, depth)\n",
    "        if result != 'cutoff':\n",
    "            return result\n",
    "  \n",
    "  \n",
    "def uniformCostSearch(problem):\n",
    "    def g_cost(item):\n",
    "        return item[2] #Costo de el camino\n",
    "    return general_search(problem, utils.PriorityQueue(f = g_cost))\n",
    "  \n",
    "\n",
    "def nullHeuristic(state):\n",
    "    return 0\n",
    "\n",
    "def aStarSearch(problem, heuristic=nullHeuristic):\n",
    "    ### your code here ###\n",
    "    def f_cost(item):\n",
    "            #Backward cost , forward cost\n",
    "        return item[2] + heuristic(item[0]) \n",
    "    return general_search(problem, utils.PriorityQueue(f = f_cost)) \n",
    "  \n",
    "\n",
    "problem = masterball_problem([ [0, 4, 3, 2, 1, 5, 6, 7],\n",
    "                              [0, 3, 2, 1, 0, 5, 6, 7],\n",
    "                              [7, 4, 3, 2, 1, 4, 5, 6],\n",
    "                              [0, 4, 3, 2, 1, 5, 6, 7]])\n",
    "\n",
    "\n",
    "print(\"Bfs\")\n",
    "actions,tree = bfs(problem)\n",
    "print(actions)\n",
    "print(problem.expanded)\n",
    "problemIterative = masterball_problem([ [0, 4, 3, 2, 1, 5, 6, 7],\n",
    "                              [0, 3, 2, 1, 0, 5, 6, 7],\n",
    "                              [7, 4, 3, 2, 1, 4, 5, 6],\n",
    "                              [0, 4, 3, 2, 1, 5, 6, 7]])\n",
    "print(\"Iterative\")\n",
    "actions = iterativeDeepeningSearch(problemIterative)\n",
    "print(actions)\n",
    "print(problemIterative.expanded)\n",
    "problemA = masterball_problem([ [0, 4, 3, 2, 1, 5, 6, 7],\n",
    "                              [0, 3, 2, 1, 0, 5, 6, 7],\n",
    "                              [7, 4, 3, 2, 1, 4, 5, 6],\n",
    "                              [0, 4, 3, 2, 1, 5, 6, 7]])\n",
    "print(\"A*\")\n",
    "actions = aStarSearch(problemA)\n",
    "print(actions)\n",
    "print(problemA.expanded)"
   ]
  },
  {
   "cell_type": "markdown",
   "metadata": {
    "colab_type": "text",
    "id": "fgGPYoOTEU_t"
   },
   "source": [
    "Evaluelo para ver cuál es la máxima profundidad que se puede alcanzar en un tiempo razonable con cada estrategia de búsqueda. Reporte los resultados."
   ]
  },
  {
   "cell_type": "markdown",
   "metadata": {
    "colab_type": "text",
    "id": "Dkz_jW3eEU_u"
   },
   "source": [
    "### 3. Implemente diferente heurísticas para el problema"
   ]
  },
  {
   "cell_type": "markdown",
   "metadata": {
    "colab_type": "text",
    "id": "Seo2UTvYEU_v"
   },
   "source": [
    "Implemente al menos dos heurísticas admisibles y consistentes. Compare A* usando las heurísticas contra IDS calculando el número de nodos expandidos. "
   ]
  },
  {
   "cell_type": "code",
   "execution_count": 0,
   "metadata": {
    "colab": {},
    "colab_type": "code",
    "id": "nhXIJ7jGEU_w"
   },
   "outputs": [],
   "source": [
    "\"\"\" \n",
    " unorderedHeuristic consiste en la cantidad de piezas del rompecabezas que no\n",
    " se encuentra en la posicion correcta\n",
    "\"\"\"\n",
    "def unorderedHeuristic(state):\n",
    "    ### your code here ###\n",
    "    target=[[x for x in range(8)] for y in range(4)]\n",
    "    unordered = 0\n",
    "    for i in range(4):\n",
    "        for j in range(8):\n",
    "            if(state[i][j]!=target[i][j]):\n",
    "                unordered += 1\n",
    "    return unordered\n",
    "\"\"\"\n",
    "  repeatedRows  consiste en contar cuantos colores se encuentran repetidos\n",
    "  por cada capa del masterball\n",
    "\"\"\"\n",
    "def repeatedRows(state):\n",
    "    repeated = 0\n",
    "    for i in range(4):\n",
    "        aux = [x for x in state[i] if state[i].count(x) > 1]\n",
    "        repeated += len(aux)\n",
    "    return repeated"
   ]
  },
  {
   "cell_type": "markdown",
   "metadata": {
    "colab_type": "text",
    "id": "ahZkd6V7Behj"
   },
   "source": [
    "###Uniform Cost Search"
   ]
  },
  {
   "cell_type": "code",
   "execution_count": 10,
   "metadata": {
    "colab": {
     "base_uri": "https://localhost:8080/",
     "height": 52
    },
    "colab_type": "code",
    "id": "H7x_LHFFEU_z",
    "outputId": "88dfa259-dc11-47de-ad3d-c32b242a0b77"
   },
   "outputs": [
    {
     "name": "stdout",
     "output_type": "stream",
     "text": [
      "(['Vertical 5', 'Right 1', 'Vertical 1', 'Vertical 5'], <__main__.search_tree object at 0x7fcd735b5c88>)\n",
      "115668\n"
     ]
    }
   ],
   "source": [
    "problem = masterball_problem([ [0, 4, 3, 2, 1, 5, 6, 7],\n",
    "                              [0, 3, 2, 1, 0, 5, 6, 7],\n",
    "                              [7, 4, 3, 2, 1, 4, 5, 6],\n",
    "                              [0, 4, 3, 2, 1, 5, 6, 7]])\n",
    "\n",
    "print(uniformCostSearch(problem))\n",
    "print(problem.expanded)"
   ]
  },
  {
   "cell_type": "markdown",
   "metadata": {
    "colab_type": "text",
    "id": "S-l-9O1TFZL1"
   },
   "source": [
    "###A* Search - Repeated Rows"
   ]
  },
  {
   "cell_type": "code",
   "execution_count": 11,
   "metadata": {
    "colab": {
     "base_uri": "https://localhost:8080/",
     "height": 52
    },
    "colab_type": "code",
    "id": "GpmJY8ueFcQJ",
    "outputId": "3f8e61c2-4837-4c21-d79f-e6b9b10347ed"
   },
   "outputs": [
    {
     "name": "stdout",
     "output_type": "stream",
     "text": [
      "(['Vertical 5', 'Right 1', 'Vertical 1', 'Vertical 5'], <__main__.search_tree object at 0x7fcd737e1198>)\n",
      "67656\n"
     ]
    }
   ],
   "source": [
    "problem = masterball_problem([ [0, 4, 3, 2, 1, 5, 6, 7],\n",
    "                              [0, 3, 2, 1, 0, 5, 6, 7],\n",
    "                              [7, 4, 3, 2, 1, 4, 5, 6],\n",
    "                              [0, 4, 3, 2, 1, 5, 6, 7]])\n",
    "\n",
    "print(aStarSearch(problem, repeatedRows))\n",
    "print(problem.expanded)"
   ]
  },
  {
   "cell_type": "markdown",
   "metadata": {
    "colab_type": "text",
    "id": "VhIDQ0GLBimP"
   },
   "source": [
    "###A* Search - Unordered Heuristic"
   ]
  },
  {
   "cell_type": "code",
   "execution_count": 12,
   "metadata": {
    "colab": {
     "base_uri": "https://localhost:8080/",
     "height": 52
    },
    "colab_type": "code",
    "id": "KoTBtHyTBbp9",
    "outputId": "4477ed1d-99eb-41d6-8828-0fc12292b462"
   },
   "outputs": [
    {
     "name": "stdout",
     "output_type": "stream",
     "text": [
      "(['Vertical 5', 'Right 1', 'Vertical 5', 'Vertical 1'], <__main__.search_tree object at 0x7fcd737e4898>)\n",
      "2676\n"
     ]
    }
   ],
   "source": [
    "problem = masterball_problem([ [0, 4, 3, 2, 1, 5, 6, 7],\n",
    "                              [0, 3, 2, 1, 0, 5, 6, 7],\n",
    "                              [7, 4, 3, 2, 1, 4, 5, 6],\n",
    "                              [0, 4, 3, 2, 1, 5, 6, 7]])\n",
    "\n",
    "print(aStarSearch(problem, unorderedHeuristic))\n",
    "print(problem.expanded)"
   ]
  }
 ],
 "metadata": {
  "colab": {
   "name": "taller2.ipynb",
   "provenance": [],
   "version": "0.3.2"
  },
  "kernelspec": {
   "display_name": "Python 3",
   "language": "python",
   "name": "python3"
  },
  "language_info": {
   "codemirror_mode": {
    "name": "ipython",
    "version": 3
   },
   "file_extension": ".py",
   "mimetype": "text/x-python",
   "name": "python",
   "nbconvert_exporter": "python",
   "pygments_lexer": "ipython3",
   "version": "3.6.5"
  }
 },
 "nbformat": 4,
 "nbformat_minor": 1
}
